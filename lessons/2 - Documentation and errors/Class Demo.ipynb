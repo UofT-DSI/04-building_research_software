{
  "nbformat": 4,
  "nbformat_minor": 0,
  "metadata": {
    "colab": {
      "provenance": []
    },
    "kernelspec": {
      "name": "python3",
      "display_name": "Python 3"
    },
    "language_info": {
      "name": "python"
    }
  },
  "cells": [
    {
      "cell_type": "markdown",
      "source": [
        "## Live Coding Demo Code\n",
        "This notebook contains the code written during the live coding demonstrations of the class.\n",
        "\n",
        "Please refer to the class recording for more information!"
      ],
      "metadata": {
        "id": "NvsfI_fYSn6v"
      }
    },
    {
      "cell_type": "code",
      "execution_count": null,
      "metadata": {
        "colab": {
          "base_uri": "https://localhost:8080/"
        },
        "id": "Lkvm1POmyTd2",
        "outputId": "15b75776-5ded-4680-a805-fec707523582"
      },
      "outputs": [
        {
          "output_type": "stream",
          "name": "stdout",
          "text": [
            "Hello World!\n",
            "Goodbye World!\n",
            "Goodbye World!\n",
            "Goodbye World!\n"
          ]
        }
      ],
      "source": [
        "\n",
        "def say_hello(name: str, repeat: int = 1, goodbye: bool = False) -> None:\n",
        "\n",
        "  if goodbye:\n",
        "      message = 'Goodbye'\n",
        "  else:\n",
        "      message = 'Hello'\n",
        "\n",
        "  for _ in range(repeat):\n",
        "      print(f'{message} {name}!')\n",
        "\n",
        "\n",
        "\n",
        "say_hello('World')\n",
        "say_hello('World', 3, True)\n"
      ]
    },
    {
      "cell_type": "code",
      "source": [
        "import requests\n",
        "import json\n",
        "from pprint import pprint\n",
        "\n",
        "from google.colab import userdata\n",
        "\n",
        "\n",
        "def get_user_data() -> dict:\n",
        "  \"\"\" Get the authenticated user data object from GitHub.\n",
        "\n",
        "  Connect to the GitHub API and retrieve the authenticated users' data as Python dictionary.\n",
        "  The token is retrieved from the colab userdata system.\n",
        "\n",
        "  Parameters\n",
        "  ----------\n",
        "  None\n",
        "\n",
        "  Returns\n",
        "  -------\n",
        "  user_obj : dict\n",
        "    User data retrieved from GitHub\n",
        "\n",
        "  Examples\n",
        "  --------\n",
        "  user_obj = get_user_data()\n",
        "  pprint(user_obj)\n",
        "\n",
        "  {\n",
        "    'name': 'Simeon Wong',\n",
        "    'login': 'dtxe',\n",
        "    ...\n",
        "  }\n",
        "  \"\"\"\n",
        "\n",
        "  token = userdata.get('ghtoken')\n",
        "\n",
        "  main_api = 'https://pjfaoijeclawneoaiwjfeoiajwef.com'\n",
        "  backup_api = 'https://api.github.com'\n",
        "\n",
        "  try:\n",
        "    # get response from first API\n",
        "    response = requests.get(url=main_api + '/user',\n",
        "                            headers={'Authorization': 'Bearer ' + token})\n",
        "    print('success from first API')\n",
        "\n",
        "  except requests.exceptions.ConnectionError:\n",
        "    print('Error with 1st, trying 2nd')\n",
        "    # connection error to first API, let's try backup\n",
        "    response = requests.get(url=backup_api + '/user',\n",
        "                            headers={'Authorization': 'Bearer ' + token})\n",
        "    print('success from 2nd API')\n",
        "\n",
        "\n",
        "  # parse json\n",
        "  # response_json = json.loads(response.text)\n",
        "\n",
        "  return response.json()\n",
        "\n",
        "\n",
        "user_obj = get_user_data()\n",
        "\n",
        "pprint(user_obj)\n",
        "\n",
        "# print some values\n",
        "print('Username: ' + user_obj['login'])\n",
        "print('Name: ' + user_obj['name'])\n",
        "\n",
        "\n"
      ],
      "metadata": {
        "colab": {
          "base_uri": "https://localhost:8080/"
        },
        "id": "oF-1_562-MNv",
        "outputId": "ac6c7dd4-2d2a-4817-9263-fe0b3a5c3710"
      },
      "execution_count": null,
      "outputs": [
        {
          "output_type": "stream",
          "name": "stdout",
          "text": [
            "Error with 1st, trying 2nd\n",
            "success from 2nd API\n",
            "{'avatar_url': 'https://avatars.githubusercontent.com/u/7825879?v=4',\n",
            " 'bio': 'PhD student in Biomedical Engineering at SickKids and the University '\n",
            "        'of Toronto.\\r\\n'\n",
            "        'Building responsive neuromodulation strategies for children with '\n",
            "        'epilepsy.',\n",
            " 'blog': 'https://simeonwong.com',\n",
            " 'company': 'Hospital for Sick Children',\n",
            " 'created_at': '2014-06-07T17:32:08Z',\n",
            " 'email': None,\n",
            " 'events_url': 'https://api.github.com/users/dtxe/events{/privacy}',\n",
            " 'followers': 8,\n",
            " 'followers_url': 'https://api.github.com/users/dtxe/followers',\n",
            " 'following': 1,\n",
            " 'following_url': 'https://api.github.com/users/dtxe/following{/other_user}',\n",
            " 'gists_url': 'https://api.github.com/users/dtxe/gists{/gist_id}',\n",
            " 'gravatar_id': '',\n",
            " 'hireable': None,\n",
            " 'html_url': 'https://github.com/dtxe',\n",
            " 'id': 7825879,\n",
            " 'location': 'Toronto, ON',\n",
            " 'login': 'dtxe',\n",
            " 'name': 'Simeon Wong',\n",
            " 'node_id': 'MDQ6VXNlcjc4MjU4Nzk=',\n",
            " 'organizations_url': 'https://api.github.com/users/dtxe/orgs',\n",
            " 'public_gists': 15,\n",
            " 'public_repos': 28,\n",
            " 'received_events_url': 'https://api.github.com/users/dtxe/received_events',\n",
            " 'repos_url': 'https://api.github.com/users/dtxe/repos',\n",
            " 'site_admin': False,\n",
            " 'starred_url': 'https://api.github.com/users/dtxe/starred{/owner}{/repo}',\n",
            " 'subscriptions_url': 'https://api.github.com/users/dtxe/subscriptions',\n",
            " 'twitter_username': None,\n",
            " 'type': 'User',\n",
            " 'updated_at': '2024-01-04T17:40:12Z',\n",
            " 'url': 'https://api.github.com/users/dtxe'}\n",
            "Username: dtxe\n",
            "Name: Simeon Wong\n"
          ]
        }
      ]
    },
    {
      "cell_type": "code",
      "source": [
        "input_from_user = '45 obj'\n",
        "\n",
        "try:\n",
        "  input_as_int = int(input_from_user)\n",
        "except ValueError as e:\n",
        "  raise ValueError(f'Input received was \"{input_from_user}\" but we expected an int.')\n",
        "\n",
        "print(input_as_int)\n"
      ],
      "metadata": {
        "colab": {
          "base_uri": "https://localhost:8080/",
          "height": 433
        },
        "id": "QN5RIDMgDNj5",
        "outputId": "dc708613-30d3-4f52-ed8a-1ce273a5f25e"
      },
      "execution_count": 9,
      "outputs": [
        {
          "output_type": "error",
          "ename": "ValueError",
          "evalue": "Input received was \"45 obj\" but we expected an int.",
          "traceback": [
            "\u001b[0;31m---------------------------------------------------------------------------\u001b[0m",
            "\u001b[0;31mValueError\u001b[0m                                Traceback (most recent call last)",
            "\u001b[0;32m<ipython-input-9-cdb5f700dcde>\u001b[0m in \u001b[0;36m<cell line: 3>\u001b[0;34m()\u001b[0m\n\u001b[1;32m      3\u001b[0m \u001b[0;32mtry\u001b[0m\u001b[0;34m:\u001b[0m\u001b[0;34m\u001b[0m\u001b[0;34m\u001b[0m\u001b[0m\n\u001b[0;32m----> 4\u001b[0;31m   \u001b[0minput_as_int\u001b[0m \u001b[0;34m=\u001b[0m \u001b[0mint\u001b[0m\u001b[0;34m(\u001b[0m\u001b[0minput_from_user\u001b[0m\u001b[0;34m)\u001b[0m\u001b[0;34m\u001b[0m\u001b[0;34m\u001b[0m\u001b[0m\n\u001b[0m\u001b[1;32m      5\u001b[0m \u001b[0;32mexcept\u001b[0m \u001b[0mValueError\u001b[0m \u001b[0;32mas\u001b[0m \u001b[0me\u001b[0m\u001b[0;34m:\u001b[0m\u001b[0;34m\u001b[0m\u001b[0;34m\u001b[0m\u001b[0m\n",
            "\u001b[0;31mValueError\u001b[0m: invalid literal for int() with base 10: '45 obj'",
            "\nDuring handling of the above exception, another exception occurred:\n",
            "\u001b[0;31mValueError\u001b[0m                                Traceback (most recent call last)",
            "\u001b[0;32m<ipython-input-9-cdb5f700dcde>\u001b[0m in \u001b[0;36m<cell line: 3>\u001b[0;34m()\u001b[0m\n\u001b[1;32m      5\u001b[0m \u001b[0;32mexcept\u001b[0m \u001b[0mValueError\u001b[0m \u001b[0;32mas\u001b[0m \u001b[0me\u001b[0m\u001b[0;34m:\u001b[0m\u001b[0;34m\u001b[0m\u001b[0;34m\u001b[0m\u001b[0m\n\u001b[1;32m      6\u001b[0m   \u001b[0me\u001b[0m \u001b[0;34m=\u001b[0m \u001b[0mValueError\u001b[0m\u001b[0;34m(\u001b[0m\u001b[0;34mf'Input received was \"{input_from_user}\" but we expected an int.'\u001b[0m\u001b[0;34m)\u001b[0m\u001b[0;34m\u001b[0m\u001b[0;34m\u001b[0m\u001b[0m\n\u001b[0;32m----> 7\u001b[0;31m   \u001b[0;32mraise\u001b[0m \u001b[0me\u001b[0m\u001b[0;34m\u001b[0m\u001b[0;34m\u001b[0m\u001b[0m\n\u001b[0m\u001b[1;32m      8\u001b[0m \u001b[0;34m\u001b[0m\u001b[0m\n\u001b[1;32m      9\u001b[0m \u001b[0mprint\u001b[0m\u001b[0;34m(\u001b[0m\u001b[0minput_as_int\u001b[0m\u001b[0;34m)\u001b[0m\u001b[0;34m\u001b[0m\u001b[0;34m\u001b[0m\u001b[0m\n",
            "\u001b[0;31mValueError\u001b[0m: Input received was \"45 obj\" but we expected an int."
          ]
        }
      ]
    }
  ]
}